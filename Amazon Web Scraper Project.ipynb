{
 "cells": [
  {
   "cell_type": "markdown",
   "id": "856e8bb1",
   "metadata": {},
   "source": [
    "### *Import libraries*"
   ]
  },
  {
   "cell_type": "code",
   "execution_count": 2,
   "id": "1d44dfdb",
   "metadata": {},
   "outputs": [],
   "source": [
    "from bs4 import BeautifulSoup\n",
    "import requests\n",
    "import time\n",
    "import datetime\n",
    "\n",
    "import smtplib"
   ]
  },
  {
   "cell_type": "markdown",
   "id": "b6ddd05a",
   "metadata": {},
   "source": [
    "### *Connect to Website and pull in data*"
   ]
  },
  {
   "cell_type": "code",
   "execution_count": 3,
   "id": "7e2896ed",
   "metadata": {},
   "outputs": [],
   "source": [
    "URL = 'https://www.amazon.in/Apple-iPhone-Plus-128GB-Purple/dp/B0BDJMSBXY/ref=sr_1_4?keywords=iphone+14+pro&qid=1665937962&qu=eyJxc2MiOiI1Ljc0IiwicXNhIjoiNS40OCIsInFzcCI6IjIuODUifQ%3D%3D&sprefix=i%2Caps%2C612&sr=8-4'\n",
    "headers = {\"User-Agent\": \"Mozilla/5.0 (Windows NT 10.0) AppleWebKit/537.36 (KHTML, like Gecko) Chrome/106.0.0.0 Safari/537.36\"}\n",
    "page = requests.get(URL, headers=headers)"
   ]
  },
  {
   "cell_type": "markdown",
   "id": "4c1010b6",
   "metadata": {},
   "source": [
    "### *Clean up the data a little bit*"
   ]
  },
  {
   "cell_type": "code",
   "execution_count": 4,
   "id": "0f53e58d",
   "metadata": {},
   "outputs": [
    {
     "name": "stdout",
     "output_type": "stream",
     "text": [
      "\n",
      "           Apple iPhone 14 Plus 128GB Purple\n",
      "          \n",
      "\n",
      "                             ₹89,900.00\n",
      "                            \n"
     ]
    }
   ],
   "source": [
    "soup1 = BeautifulSoup(page.content, \"html.parser\")\n",
    "\n",
    "soup2 = BeautifulSoup(soup1.prettify(),\"html.parser\")\n",
    "\n",
    "title = soup2.find(id=\"productTitle\").get_text()\n",
    "price = soup2.find(class_=\"a-offscreen\").get_text()\n",
    "print(title)\n",
    "print(price)"
   ]
  },
  {
   "cell_type": "code",
   "execution_count": 5,
   "id": "f4c060f7",
   "metadata": {},
   "outputs": [
    {
     "name": "stdout",
     "output_type": "stream",
     "text": [
      "Apple iPhone 14 Plus 128GB Purple\n",
      "89,900.00\n"
     ]
    },
    {
     "data": {
      "text/plain": [
       "str"
      ]
     },
     "execution_count": 5,
     "metadata": {},
     "output_type": "execute_result"
    }
   ],
   "source": [
    "title = title.strip()\n",
    "price = price.strip()[1:]\n",
    "\n",
    "print(title)\n",
    "print(price)\n",
    "type(price)"
   ]
  },
  {
   "cell_type": "markdown",
   "id": "9578ed4d",
   "metadata": {},
   "source": [
    "### *Create a Timestamp for your output to track when data was collected*"
   ]
  },
  {
   "cell_type": "code",
   "execution_count": 6,
   "id": "87372b6c",
   "metadata": {},
   "outputs": [
    {
     "name": "stdout",
     "output_type": "stream",
     "text": [
      "2022-10-17\n"
     ]
    }
   ],
   "source": [
    "import datetime\n",
    "\n",
    "today = datetime.date.today()\n",
    "\n",
    "print(today)"
   ]
  },
  {
   "cell_type": "markdown",
   "id": "b7f45031",
   "metadata": {},
   "source": [
    "### *Create CSV and write headers and data into the file*"
   ]
  },
  {
   "cell_type": "code",
   "execution_count": 19,
   "id": "98d6cbb0",
   "metadata": {},
   "outputs": [
    {
     "data": {
      "text/plain": [
       "list"
      ]
     },
     "execution_count": 19,
     "metadata": {},
     "output_type": "execute_result"
    }
   ],
   "source": [
    "import csv\n",
    "\n",
    "header = ['Title','Price','today'] \n",
    "data = [title, price, today]\n",
    "\n",
    "type(data)"
   ]
  },
  {
   "cell_type": "code",
   "execution_count": 20,
   "id": "b7d3430b",
   "metadata": {},
   "outputs": [],
   "source": [
    "with open (\"AmazonWebScaraperDataSet.csv\",'w', newline='', encoding='UTF8') as f:\n",
    "           writer = csv.writer(f)\n",
    "           writer.writerow(header)\n",
    "           writer.writerow(data)"
   ]
  },
  {
   "cell_type": "code",
   "execution_count": 21,
   "id": "44ad8579",
   "metadata": {},
   "outputs": [
    {
     "data": {
      "text/html": [
       "<div>\n",
       "<style scoped>\n",
       "    .dataframe tbody tr th:only-of-type {\n",
       "        vertical-align: middle;\n",
       "    }\n",
       "\n",
       "    .dataframe tbody tr th {\n",
       "        vertical-align: top;\n",
       "    }\n",
       "\n",
       "    .dataframe thead th {\n",
       "        text-align: right;\n",
       "    }\n",
       "</style>\n",
       "<table border=\"1\" class=\"dataframe\">\n",
       "  <thead>\n",
       "    <tr style=\"text-align: right;\">\n",
       "      <th></th>\n",
       "      <th>Title</th>\n",
       "      <th>Price</th>\n",
       "      <th>today</th>\n",
       "    </tr>\n",
       "  </thead>\n",
       "  <tbody>\n",
       "    <tr>\n",
       "      <th>0</th>\n",
       "      <td>Apple iPhone 14 Plus 128GB Purple</td>\n",
       "      <td>89,900.00</td>\n",
       "      <td>2022-10-17</td>\n",
       "    </tr>\n",
       "  </tbody>\n",
       "</table>\n",
       "</div>"
      ],
      "text/plain": [
       "                               Title      Price       today\n",
       "0  Apple iPhone 14 Plus 128GB Purple  89,900.00  2022-10-17"
      ]
     },
     "execution_count": 21,
     "metadata": {},
     "output_type": "execute_result"
    }
   ],
   "source": [
    "import pandas as pd\n",
    "\n",
    "df = pd.read_csv(r'C:\\Users\\ishus\\AmazonWebScaraperDataSet.csv')\n",
    "df\n"
   ]
  },
  {
   "cell_type": "markdown",
   "id": "d7fdd2ba",
   "metadata": {},
   "source": [
    "### *Now we are appending data to the CSV*"
   ]
  },
  {
   "cell_type": "code",
   "execution_count": 22,
   "id": "45505aa1",
   "metadata": {},
   "outputs": [
    {
     "name": "stdout",
     "output_type": "stream",
     "text": [
      "                               Title      Price       today\n",
      "0  Apple iPhone 14 Plus 128GB Purple  89,900.00  2022-10-17\n"
     ]
    }
   ],
   "source": [
    "with open (\"AmazonWebScaraperDataSet.csv\",'a+', newline='', encoding='UTF8') as f:\n",
    "           writer = csv.writer(f)\n",
    "           writer.writerow(data)\n",
    "            \n",
    "print(df)"
   ]
  },
  {
   "cell_type": "markdown",
   "id": "bdf359f4",
   "metadata": {},
   "source": [
    "### *Combine all of the above code into one function*"
   ]
  },
  {
   "cell_type": "code",
   "execution_count": 31,
   "id": "5067271f",
   "metadata": {},
   "outputs": [],
   "source": [
    "   def check_price():\n",
    "        URL = 'https://www.amazon.in/Apple-iPhone-Plus-128GB-Purple/dp/B0BDJMSBXY/ref=sr_1_4?keywords=iphone+14+pro&qid=1665937962&qu=eyJxc2MiOiI1Ljc0IiwicXNhIjoiNS40OCIsInFzcCI6IjIuODUifQ%3D%3D&sprefix=i%2Caps%2C612&sr=8-4'\n",
    "        headers = {\"User-Agent\": \"Mozilla/5.0 (Windows NT 10.0) AppleWebKit/537.36 (KHTML, like Gecko) Chrome/106.0.0.0 Safari/537.36\"}\n",
    "        page = requests.get(URL, headers=headers)\n",
    "        soup1 = BeautifulSoup(page.content, \"html.parser\")\n",
    "\n",
    "        soup2 = BeautifulSoup(soup1.prettify(),\"html.parser\")\n",
    "\n",
    "        title = soup2.find(id=\"productTitle\").get_text()\n",
    "        price = soup2.find(class_=\"a-offscreen\").get_text()\n",
    "        \n",
    "        title = title.strip()\n",
    "        price = price.strip()[1:]\n",
    "        \n",
    "        import datetime\n",
    "\n",
    "        today = datetime.date.today()\n",
    "        \n",
    "        import csv\n",
    "\n",
    "        header = ['Title','Price','today'] \n",
    "        data = [title, price, today]\n",
    "        \n",
    "        with open (\"AmazonWebScaraperDataSet.csv\",'a+', newline='', encoding='UTF8') as f:\n",
    "            writer = csv.writer(f)\n",
    "            writer.writerow(data)\n",
    "            \n",
    "        if(price < 69000):\n",
    "           send_mail()\n",
    "           \n",
    "           \n",
    "            \n"
   ]
  },
  {
   "cell_type": "markdown",
   "id": "cdc5ade6",
   "metadata": {},
   "source": [
    "### *Runs check_price after a set time and inputs data into your CSV*"
   ]
  },
  {
   "cell_type": "code",
   "execution_count": null,
   "id": "f5dfb77b",
   "metadata": {},
   "outputs": [],
   "source": [
    "while(True):\n",
    "    check_price()\n",
    "    time.sleep(86400)"
   ]
  },
  {
   "cell_type": "code",
   "execution_count": null,
   "id": "9b79d10c",
   "metadata": {},
   "outputs": [],
   "source": [
    "import pandas as pd\n",
    "\n",
    "df = pd.read_csv(r'C:\\Users\\ishus\\AmazonWebScaraperDataSet.csv')\n",
    "print(df)\n"
   ]
  },
  {
   "cell_type": "markdown",
   "id": "58fb8da4",
   "metadata": {},
   "source": [
    "### *If uou want to try sending yourself an email (just for fun) when a price hits below a certain level you can try it*\n",
    "### *out with this script*"
   ]
  },
  {
   "cell_type": "code",
   "execution_count": null,
   "id": "5abf0309",
   "metadata": {},
   "outputs": [],
   "source": [
    "def send_mail():\n",
    "    server = smptplib.SMTP_SSL('smtp.gmail.com',465)\n",
    "    server.ehlo()\n",
    "\n",
    "# Server.startls()\n",
    "    server.ehlo()\n",
    "    server.login('ritiksaini469@gmail.com'.'xxxxxxxxxxxxxxxxxx')\n",
    "    \n",
    "    subject = \" The iPhone 14 Plus 128GB Purple you want is blew ₹70000 | Now is your chance to buy | \"\n",
    "    body = \"RITIK, This is the moment we have been waiting for you . Now is your chance to pick the iphone 14 Plus of your dream. Don't mess it Up! Link here: https://www.amazon.in/Apple-iPhone-Plus-128GB-Purple/dp/B0BDJMSBXY/ref=sr_1_4?keywords=iphone+14+pro&qid=1665937962&qu=eyJxc2MiOiI1Ljc0IiwicXNhIjoiNS40OCIsInFzcCI6IjIuODUifQ%3D%3D&sprefix=i%2Caps%2C612&sr=8-4\"\n",
    "    \n",
    "    \n",
    "    msg = f\"Subject: {subject}\\n\\n{body}\"\n",
    "    \n",
    "    server.sendmail(\n",
    "        'ritiksaini469@gmail.com',\n",
    "        msg\n",
    "        \n",
    "    )\n",
    "    \n",
    "    "
   ]
  },
  {
   "cell_type": "markdown",
   "id": "2612f545",
   "metadata": {},
   "source": [
    "**Thanku You:**\n",
    "**RITIK SAINI**"
   ]
  }
 ],
 "metadata": {
  "kernelspec": {
   "display_name": "Python 3 (ipykernel)",
   "language": "python",
   "name": "python3"
  },
  "language_info": {
   "codemirror_mode": {
    "name": "ipython",
    "version": 3
   },
   "file_extension": ".py",
   "mimetype": "text/x-python",
   "name": "python",
   "nbconvert_exporter": "python",
   "pygments_lexer": "ipython3",
   "version": "3.9.12"
  }
 },
 "nbformat": 4,
 "nbformat_minor": 5
}
